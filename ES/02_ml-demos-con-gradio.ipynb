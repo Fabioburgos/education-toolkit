{
  "nbformat": 4,
  "nbformat_minor": 0,
  "metadata": {
    "colab": {
      "name": "Español - Creación y hosting de demos de machine learning con Gradio y Hugging Face",
      "provenance": [],
      "collapsed_sections": []
    },
    "kernelspec": {
      "name": "python3",
      "display_name": "Python 3"
    },
    "language_info": {
      "name": "python"
    }
  },
  "cells": [
    {
      "cell_type": "markdown",
      "source": [
        "**Notebook original en inglés [aquí](https://colab.research.google.com/drive/1K5tP5NBWwtezBg3Kp4wpD5KI6JZ6oCg9).**"
      ],
      "metadata": {
        "id": "7M5cWHxEXS6U"
      }
    },
    {
      "cell_type": "markdown",
      "source": [
        "💡 **¡Bienvenidos!** \n",
        "\n",
        "Hemos reunido un conjunto de herramientas que los y las profesoras universitarias pueden usar para preparar fácilmente laboratorios, tareas o clases. El contenido está diseñado de manera autónoma, de modo que se puede incorporar fácilmente al plan de estudios existente. Este contenido es gratuito y utiliza tecnologías Open Source ampliamente conocidas (`transformers`, `gradio`, etc).\n",
        "\n",
        "Alternativamente, puede solicitar que alguien del equipo de Hugging Face ejecute los tutoriales para su clase a través de la iniciativa [Gira de demo.cratización de ML](https://www.notion.so/ML-Demo-cratization-tour-with-66847a294abd4e9785e85663f5239652)!\n",
        "\n",
        "Además de los tutoriales, también compartimos otros recursos para profundizar en ML que pueden ayudar a diseñar el contenido del curso.\n"
      ],
      "metadata": {
        "id": "gh6QOr-qO4Ym"
      }
    },
    {
      "cell_type": "markdown",
      "source": [
        "# Tutorial: Cree y aloje demos de machine learning con Gradio y Hugging Face 🤗 "
      ],
      "metadata": {
        "id": "NkJmA-r5L0EB"
      }
    },
    {
      "cell_type": "markdown",
      "source": [
        "**Objetivos:** \n",
        "1. Crear un demo rápido para su modelo de machine learning en Python usando la libreria `gradio` \n",
        "2. Alojar los demos de forma gratuita con Hugging Face Spaces\n",
        "3. Agregar el demo a su organización en Hugging Face para su clase o conferencia. Esto incluye:\n",
        "  *  Un paso de configuración para instructores (u organizadores de conferencias)\n",
        "  *  Instrucciones de cómo subir los demas para los estudiantes (o participantes de conferencias)\n",
        "\n",
        "**Duración**: 20-40\n",
        " minutos\n",
        "\n",
        "**Requisitos previos:** Conocimiento de Python y familiaridad básica del machine learning\n",
        "\n",
        "\n",
        "**Autor**: [Abubakar Abid](https://twitter.com/abidlabs) (siéntase libre de enviarme un ping con cualquier pregunta sobre este tutorial) \n",
        "\n",
        "¡Todos estos pasos se pueden hacer gratis! Todo lo que necesita es un navegador de Internet y un lugar donde pueda escribir Python 👩‍💻"
      ],
      "metadata": {
        "id": "D_Iv1CJZPekG"
      }
    },
    {
      "cell_type": "markdown",
      "source": [
        "## ¿Por qué demos?\n",
        "\n",
        "Los **demos** de modelos de machine learning son una parte cada vez más importante de los _cursos_ y _conferencias_ de machine learning. Los demos permiten:\n",
        "* que desarrolladores de modelos puedan **presentar** fácilmente su trabajo a una amplia audiencia\n",
        "* aumentar la **reproducibilidad** de la investigación de machine learning\n",
        "* que diversos usuarios puedan **identificar y depurar** más fácilmente los puntos de falla de los modelos\n",
        "\n",
        "\n",
        "Como un ejemplo rápido de lo que nos gustaría construir, eche un vistazo a [Keras org en Hugging Face](https://huggingface.co/keras-io), que incluye una tarjeta de descripción y una colección de Modelos y Spaces construidos por la comunidad de Keras. Cualquier Space se puede abrir en su navegador y puede usar el modelo inmediatamente como se muestra aquí:\n",
        "\n",
        "![](https://i.ibb.co/7y6DGjB/ezgif-5-cc52b7e590.gif)\n",
        "\n",
        "\n"
      ],
      "metadata": {
        "id": "PR9faV2NWTrG"
      }
    },
    {
      "cell_type": "markdown",
      "source": [
        "## 1. Crear demos rápidos de ML en Python usando la librería Gradio"
      ],
      "metadata": {
        "id": "g0KzbU4lQtv3"
      }
    },
    {
      "cell_type": "markdown",
      "source": [
        "`gradio` es una librería de Python que le permite crear demos web simplemente especificando la lista de componentes de entrada y salida que espera su modelo de machine learning.\n",
        "\n",
        "¿Qué quiero decir con componentes de entrada y salida? Gradio viene con un montón de componentes predefinidos para diferentes tipos de modelos de aprendizaje automático. Aquí hay unos ejemplos:\n",
        "\n",
        "* Para un **clasificador de imágenes**, el tipo de entrada esperado es una `Imagen` y el tipo de salida es una `Etiqueta`. \n",
        "* Para un **modelo de reconocimiento de voz**, el componente de entrada esperado es un `Micrófono` (que permite a los usuarios grabar desde el navegador) o `Audio` (que permite a los usuarios arrastrar y soltar archivos de audio), mientras que el tipo de salida es `Texto`.\n",
        "* Para un **modelo de respuesta a preguntas**, esperamos **2 entradas**: [`Texto`, `Texto`], un cuadro de texto para el párrafo y otro para la pregunta, y el tipo de salida es un solo `Texto` correspondiente a la respuesta. \n",
        "\n",
        "Ya se va notando la idea... (para todos los componentes, [ver la documentación](https://gradio.app/docs/))\n",
        "\n",
        "Además de los tipos de entrada y salida, Gradio espera un tercer parámetro, que es la propia función de predicción. Este parámetro puede ser ***cualquier* función normal de Python** que tome los parámetros correspondientes a los componentes de entrada y devuelva los valores correspondientes a los componentes de salida.\n",
        "\n",
        "Basta de palabras. ¡Veamos algo de código!"
      ],
      "metadata": {
        "id": "rlSs72oUQ1VW"
      }
    },
    {
      "cell_type": "code",
      "source": [
        "# Primero, instale Gradio\n",
        "!pip install --quiet gradio"
      ],
      "metadata": {
        "colab": {
          "base_uri": "https://localhost:8080/"
        },
        "id": "p0MkPbbZbSiP",
        "outputId": "796e3a39-6d72-4232-b7a9-21a93faaddef"
      },
      "execution_count": null,
      "outputs": [
        {
          "output_type": "stream",
          "name": "stdout",
          "text": [
            "\u001b[K     |████████████████████████████████| 5.7 MB 5.8 MB/s \n",
            "\u001b[K     |████████████████████████████████| 84 kB 1.6 MB/s \n",
            "\u001b[K     |████████████████████████████████| 2.0 MB 46.1 MB/s \n",
            "\u001b[K     |████████████████████████████████| 210 kB 48.7 MB/s \n",
            "\u001b[K     |████████████████████████████████| 53 kB 1.7 MB/s \n",
            "\u001b[K     |████████████████████████████████| 1.1 MB 41.2 MB/s \n",
            "\u001b[K     |████████████████████████████████| 53 kB 1.5 MB/s \n",
            "\u001b[K     |████████████████████████████████| 144 kB 19.2 MB/s \n",
            "\u001b[K     |████████████████████████████████| 94 kB 3.4 MB/s \n",
            "\u001b[K     |████████████████████████████████| 271 kB 52.3 MB/s \n",
            "\u001b[K     |████████████████████████████████| 10.9 MB 48.3 MB/s \n",
            "\u001b[K     |████████████████████████████████| 58 kB 5.0 MB/s \n",
            "\u001b[K     |████████████████████████████████| 79 kB 7.2 MB/s \n",
            "\u001b[K     |████████████████████████████████| 43 kB 1.8 MB/s \n",
            "\u001b[K     |████████████████████████████████| 856 kB 49.9 MB/s \n",
            "\u001b[K     |████████████████████████████████| 3.6 MB 50.2 MB/s \n",
            "\u001b[K     |████████████████████████████████| 61 kB 398 kB/s \n",
            "\u001b[K     |████████████████████████████████| 58 kB 5.7 MB/s \n",
            "\u001b[?25h  Building wheel for ffmpy (setup.py) ... \u001b[?25l\u001b[?25hdone\n",
            "  Building wheel for python-multipart (setup.py) ... \u001b[?25l\u001b[?25hdone\n"
          ]
        }
      ]
    },
    {
      "cell_type": "code",
      "source": [
        "# Definir una función simple \"Hola mundo\"\n",
        "def greet(name):\n",
        "    return \"Hello \" + name + \"!!\""
      ],
      "metadata": {
        "id": "SjTxhry8bWS7"
      },
      "execution_count": null,
      "outputs": []
    },
    {
      "cell_type": "code",
      "source": [
        "# Escriba 2 líneas de Python para crear una GUI simple\n",
        "import gradio as gr\n",
        "\n",
        "gr.Interface(fn=greet, inputs=\"text\", outputs=\"text\").launch();"
      ],
      "metadata": {
        "id": "OgqlIG2DbrJq",
        "colab": {
          "base_uri": "https://localhost:8080/",
          "height": 589
        },
        "outputId": "43e2f282-4dd7-498e-8653-981e4545226a"
      },
      "execution_count": null,
      "outputs": [
        {
          "output_type": "stream",
          "name": "stdout",
          "text": [
            "Colab notebook detected. To show errors in colab notebook, set `debug=True` in `launch()`\n",
            "Running on public URL: https://12179.gradio.app\n",
            "\n",
            "This share link expires in 72 hours. For free permanent hosting, check out Spaces (https://huggingface.co/spaces)\n"
          ]
        },
        {
          "output_type": "display_data",
          "data": {
            "text/html": [
              "\n",
              "        <iframe\n",
              "            width=\"900\"\n",
              "            height=\"500\"\n",
              "            src=\"https://12179.gradio.app\"\n",
              "            frameborder=\"0\"\n",
              "            allowfullscreen\n",
              "        ></iframe>\n",
              "        "
            ],
            "text/plain": [
              "<IPython.lib.display.IFrame at 0x7f5df6577790>"
            ]
          },
          "metadata": {}
        }
      ]
    },
    {
      "cell_type": "markdown",
      "source": [
        "Ejecutar el código anterior debería producir una GUI simple dentro de este Notebook que le permita escribir entradas de ejemplo y ver el resultado devuelto por su función. \n",
        "\n",
        "Note que definimos una 'Interfaz' usando los 3 ingredientes mencionados anteriormente:\n",
        "* Una función\n",
        "* Componente(s) de entrada\n",
        "* Componente(s) de salida\n",
        "\n",
        "Este es un ejemplo simple para texto, pero el mismo principio es válido para cualquier otro tipo de tipo de datos. Por ejemplo, aquí hay una interfaz que genera un tono musical cuando se le proporcionan algunos parámetros diferentes (el código específico dentro de `generate_tone()` no es importante para el propósito de este tutorial):"
      ],
      "metadata": {
        "id": "0TyTGpSsb7bs"
      }
    },
    {
      "cell_type": "code",
      "source": [
        "import numpy as np\n",
        "import gradio as gr\n",
        "\n",
        "def generate_tone(note, octave, duration):\n",
        "    sampling_rate = 48000\n",
        "    a4_freq, tones_from_a4 = 440, 12 * (octave - 4) + (note - 9)\n",
        "    frequency = a4_freq * 2 ** (tones_from_a4 / 12)\n",
        "    audio = np.linspace(0, int(duration), int(duration) * sampling_rate)\n",
        "    audio = (20000 * np.sin(audio * (2 * np.pi * frequency))).astype(np.int16)\n",
        "    return sampling_rate, audio\n",
        "\n",
        "gr.Interface(\n",
        "    generate_tone,\n",
        "    [\n",
        "        gr.inputs.Dropdown([\"C\", \"C#\", \"D\", \"D#\", \"E\", \"F\", \"F#\", \"G\", \"G#\", \"A\", \"A#\", \"B\"], type=\"index\"),\n",
        "        gr.inputs.Slider(4, 6, step=1),\n",
        "        gr.inputs.Textbox(type=\"number\", default=1, label=\"Duration in seconds\"),\n",
        "    ],\n",
        "    \"audio\",\n",
        "    title=\"Generate a Musical Tone!\"\n",
        ").launch()"
      ],
      "metadata": {
        "id": "cHiZAO6ub6kA",
        "colab": {
          "base_uri": "https://localhost:8080/",
          "height": 641
        },
        "outputId": "48158376-f539-4f7a-8b7a-49aa08231782"
      },
      "execution_count": null,
      "outputs": [
        {
          "output_type": "stream",
          "name": "stdout",
          "text": [
            "Colab notebook detected. To show errors in colab notebook, set `debug=True` in `launch()`\n",
            "Running on public URL: https://13744.gradio.app\n",
            "\n",
            "This share link expires in 72 hours. For free permanent hosting, check out Spaces (https://huggingface.co/spaces)\n"
          ]
        },
        {
          "output_type": "display_data",
          "data": {
            "text/html": [
              "\n",
              "        <iframe\n",
              "            width=\"900\"\n",
              "            height=\"500\"\n",
              "            src=\"https://13744.gradio.app\"\n",
              "            frameborder=\"0\"\n",
              "            allowfullscreen\n",
              "        ></iframe>\n",
              "        "
            ],
            "text/plain": [
              "<IPython.lib.display.IFrame at 0x7f5df6536550>"
            ]
          },
          "metadata": {}
        },
        {
          "output_type": "execute_result",
          "data": {
            "text/plain": [
              "(<fastapi.applications.FastAPI at 0x7f5df93c8a50>,\n",
              " 'http://127.0.0.1:7861/',\n",
              " 'https://13744.gradio.app')"
            ]
          },
          "metadata": {},
          "execution_count": 4
        }
      ]
    },
    {
      "cell_type": "markdown",
      "source": [
        "**Desafío #1**: cree una demostración de Gradio que tome una imagen y aplique un *filtro sepia* en menos de 10 líneas de código Python. Puedes encontrar [\n",
        "este enlace útil](https://www.yabirgb.com/sepia_filter/). "
      ],
      "metadata": {
        "id": "23gD280-w-kT"
      }
    },
    {
      "cell_type": "markdown",
      "source": [
        "Hay muchos más ejemplos que puedes probar en la [página de inicio](https://gradio.app/getting_started/) de Gradio, que cubren características adicionales tales como:\n",
        "* Agregar entradas de ejemplo\n",
        "* Agregar _estado_ (por ejemplo para chatbots)\n",
        "* Compartir demos fácilmente usando un parámetro llamado `share` (<-- Esto está muy cool 😎)\n",
        "\n",
        "Es especialmente fácil hacer un demo de modelos `transformers` desde el Hub de Hugging Face utilizando el método especial `gr.Interface.load`. Por ejemplo, \n",
        "aquí está el código para construir un demo para [GPT-J](https://huggingface.co/EleutherAI/gpt-j-6B), un modelo de lenguaje grande, y agregar un par de ejemplos de entradas:"
      ],
      "metadata": {
        "id": "DSE6TZF5e9Oz"
      }
    },
    {
      "cell_type": "code",
      "source": [
        "import gradio as gr\n",
        "\n",
        "examples = [[\"The Moon's orbit around Earth has\"], [\"There once was a pineapple\"]]\n",
        "\n",
        "gr.Interface.load(\"huggingface/EleutherAI/gpt-j-6B\", examples=examples).launch();"
      ],
      "metadata": {
        "colab": {
          "base_uri": "https://localhost:8080/",
          "height": 607
        },
        "id": "N_Cobhx8e8v9",
        "outputId": "136ad0e6-5bc9-4d91-a2b8-788e58d53d78"
      },
      "execution_count": null,
      "outputs": [
        {
          "output_type": "stream",
          "name": "stdout",
          "text": [
            "Fetching model from: https://huggingface.co/EleutherAI/gpt-j-6B\n",
            "Colab notebook detected. To show errors in colab notebook, set `debug=True` in `launch()`\n",
            "Running on public URL: https://32105.gradio.app\n",
            "\n",
            "This share link expires in 72 hours. For free permanent hosting, check out Spaces (https://huggingface.co/spaces)\n"
          ]
        },
        {
          "output_type": "display_data",
          "data": {
            "text/html": [
              "\n",
              "        <iframe\n",
              "            width=\"900\"\n",
              "            height=\"500\"\n",
              "            src=\"https://32105.gradio.app\"\n",
              "            frameborder=\"0\"\n",
              "            allowfullscreen\n",
              "        ></iframe>\n",
              "        "
            ],
            "text/plain": [
              "<IPython.lib.display.IFrame at 0x7f5df6562890>"
            ]
          },
          "metadata": {}
        }
      ]
    },
    {
      "cell_type": "markdown",
      "source": [
        "**Desafío #2**: Vaya al [Model Hub de Hugging Face](https://huggingface.co/models), y elija un modelo que realice uno de las otros tasks admitidos en la librería `transformers`(aparte de la generación de texto). Cree un demos de Gradio para ese modelo usando `gr.Interface.load`."
      ],
      "metadata": {
        "id": "EoUYf0rYksA9"
      }
    },
    {
      "cell_type": "markdown",
      "source": [
        "## 2. Aloje el demo (gratis) en los Spaces de Hugging Face\n",
        "\n",
        "Una vez que haya realizado un demo de Gradio puede alojarlo de forma permanente en Hugging Spaces muy fácilmente:\n",
        "\n",
        "Estos son los pasos (que se muestran en el GIF a continuación):\n",
        "\n",
        "A. Cree una cuenta de Hugging Face, si aún no tiene una, visitando https://huggingface.co/ y haciendo clic en \"Sign Up\"\n",
        "\n",
        "B. Una vez que haya iniciado sesión, haga clic en su foto de perfil y luego haga clic debajo en \"New Space\" para ir a esta página: https://huggingface.co/new-space\n",
        "\n",
        "C. Dale a tu Space un nombre y una licencia. Selecciona \"Gradio\" como Space SDK y elija \"Public\" si está de acuerdo con que todos accedan a su Space y al código subyacente\n",
        "\n",
        "D. Luego encontrará una página que le brinda instrucciones sobre cómo cargar sus archivos en el repositorio de Git para ese Space. Es posible que también deba agregar un archivo `requirements.txt` para especificar las dependencias del paquete de Python\n",
        "\n",
        "E. Una vez que haya enviado sus archivos, ¡eso es todo! Spaces creará automáticamente el demo de Gradio. Podrá compartirla con cualquier persona, en cualquier lugar!\n",
        "\n",
        "![GIF](https://huggingface.co/blog/assets/28_gradio-spaces/spaces-demo-finalized.gif)\n",
        "\n",
        "\n",
        "\n"
      ],
      "metadata": {
        "id": "b6Ek7cORgDkQ"
      }
    },
    {
      "cell_type": "markdown",
      "source": [
        "Incluso puede insertar su demo de Gradio en cualquier sitio web. En un blog, una pagina de portfolio, o incluso en un Colab notebook como el modelo de reconocimiento de bocetos de Pictionary a continuación:"
      ],
      "metadata": {
        "id": "d4XCmQ_RILoq"
      }
    },
    {
      "cell_type": "code",
      "execution_count": null,
      "metadata": {
        "id": "IwNP5DJOKUql",
        "colab": {
          "base_uri": "https://localhost:8080/",
          "height": 820
        },
        "outputId": "1f64fd5e-88ae-4e66-9d1d-a5ca08f7e34a"
      },
      "outputs": [
        {
          "output_type": "execute_result",
          "data": {
            "text/html": [
              "\n",
              "        <iframe\n",
              "            width=\"1000\"\n",
              "            height=\"800\"\n",
              "            src=\"https://hf.space/gradioiframe/abidlabs/Draw/+\"\n",
              "            frameborder=\"0\"\n",
              "            allowfullscreen\n",
              "        ></iframe>\n",
              "        "
            ],
            "text/plain": [
              "<IPython.lib.display.IFrame at 0x7f5df348d6d0>"
            ]
          },
          "metadata": {},
          "execution_count": 6
        }
      ],
      "source": [
        "from IPython.display import IFrame\n",
        "IFrame(src='https://hf.space/gradioiframe/abidlabs/Draw/+', width=1000, height=800)"
      ]
    },
    {
      "cell_type": "markdown",
      "source": [
        "**Desafío #3**: Suba su demo de Gradio a los Spaces de Hugging Face y obtenga un URL permanente para él. Comparta el URL permanente con alguien (un colega, un colaborador, un amigo, un usuario, etc.). ¿Qué tipo de comentarios recibe sobre su modelo de machine learning?"
      ],
      "metadata": {
        "id": "Dw6H-iQAlF8I"
      }
    },
    {
      "cell_type": "markdown",
      "source": [
        "## 3. Agregue su demo a la organización Hugging Face para su clase o conferencia"
      ],
      "metadata": {
        "id": "MqD0O1PKIg3g"
      }
    },
    {
      "cell_type": "markdown",
      "source": [
        "#### **Configuración** (Para instructores u organizadores de conferencias)"
      ],
      "metadata": {
        "id": "DrMObQbwLOHm"
      }
    },
    {
      "cell_type": "markdown",
      "source": [
        "A. Cree una cuenta de Hugging Face, si aún no tiene una, visitando https://huggingface.co/ y haciendo clic en \"Sign Up\"\n",
        "\n",
        "B. Una vez que haya iniciado sesión, haga clic en su foto de perfil y luego haga clic en \"Nueva organización\" para ir a esta página: https://huggingface.co/organizations/new\n",
        "\n",
        "C. Complete la información para su clase o conferencia. Recomendamos crear una organización separada cada vez que se imparte una clase (por ejemplo, \"Stanford-CS236g-20222\") y para cada año de la conferencia.\n",
        "\n",
        "D. Se creará su organización y ahora los usuarios podrán solicitar ser agregados a su organización visitando la página de la organización.\n",
        "\n",
        "E. Opcionalmente, puede cambiar la configuración haciendo clic en el botón \"Organization settings\". Por lo general, para clases y conferencias, querrá navegar a `Settings > Members` y establezca el rol predeterminado para nuevos miembros en \"write\", lo que les permite enviar Spaces pero no cambiar la configuración. "
      ],
      "metadata": {
        "id": "_45C7MnXNbc0"
      }
    },
    {
      "cell_type": "markdown",
      "source": [
        "#### Para estudiantes o participantes de conferencias"
      ],
      "metadata": {
        "id": "iSqzO-w8LY0R"
      }
    },
    {
      "cell_type": "markdown",
      "source": [
        "A. Pída a su instructor/organizador de la conferencia el enlace a la página de la Organización si aún no lo tiene.\n",
        "\n",
        "B. Visite la página de la Organización y haga clic en el botón \"Request to join this org\", si aún no es parte de la organización.\n",
        "\n",
        "C. Una vez que haya sido aprobado para unirse a la organización y haya creado su demo de Gradio y la haya subido a Spaces (ver las secciones 1 y 2), simplemente vaya a su Space y vaya a `Settings > Rename or transfer this space` y luego seleccione el nombre de la organización en `New owner`. Haga clic en el botón y el Space ahora se agregará a su clase o conferencia!   "
      ],
      "metadata": {
        "id": "3x1Oyh4wOdOK"
      }
    }
  ]
}